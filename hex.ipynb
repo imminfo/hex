{
 "cells": [
  {
   "cell_type": "code",
   "execution_count": 1,
   "metadata": {
    "collapsed": false
   },
   "outputs": [],
   "source": [
    "%matplotlib inline\n",
    "%load_ext Cython\n",
    "\n",
    "import networkx as nx\n",
    "import matplotlib.pyplot as plt\n",
    "import math\n",
    "import imp\n",
    "\n",
    "fig_size = plt.rcParams[\"figure.figsize\"]\n",
    "fig_size[0] = 12\n",
    "fig_size[1] = 6\n",
    "plt.rcParams[\"figure.figsize\"] = fig_size"
   ]
  },
  {
   "cell_type": "code",
   "execution_count": 2,
   "metadata": {
    "collapsed": false
   },
   "outputs": [
    {
     "name": "stdout",
     "output_type": "stream",
     "text": [
      "CCCTTCACGACCGGTACGGGGCGCGTGCGGGGGGCGCCCAGACACAGACAGCACCGCGGGGAGCACGGGCGCTTCGGCAGCGCGGTGGGGGTGTACCGGGCGGTGACGCCGCAGGGGCGGCCTAGCGCCGAGTACTGGAACAGCCAGAAGGAAGTCCTGGAGGGGGCCCGGGCGTCGGTGGANAGAGTGTGCNGACACAACTACGAGGTGGCGTACCGCGGGATCNNGCAGAGGAGANTGGANCCCACAGTNACCATCTCCCCATCCAGGACAGAGGCCCTCAAC\n",
      "{2: 2, 3: 3}\n"
     ]
    }
   ],
   "source": [
    "%%cython\n",
    "\n",
    "import math\n",
    "\n",
    "ALPHABET = {'A':'T', 'C':'G', 'G':'C', 'T':'A', 'N':'N'}\n",
    "def revcomp(seq):\n",
    "    return ''.join(map(lambda x: ALPHABET[x], reversed(seq)))\n",
    "\n",
    "s = 'GTTGAGGGCCTCTGTCCTGGATGGGGAGATGGTNACTGTGGGNTCCANTCTCCTCTGCNNGATCCCGCGGTACGCCACCTCGTAGTTGTGTCNGCACACTCTNTCCACCGACGCCCGGGCCCCCTCCAGGACTTCCTTCTGGCTGTTCCAGTACTCGGCGCTAGGCCGCCCCTGCGGCGTCACCGCCCGGTACACCCCCACCGCGCTGCCGAAGCGCCCGTGCTCCCCGCGGTGCTGTCTGTGTCTGGGCGCCCCCCGCACGCGCCCCGTACCGGTCGTGAAGGG'\n",
    "print(revcomp(s))\n",
    "d = {1:1, 2:2, 3:3}\n",
    "d\n",
    "print(dict(filter(lambda x: x[1] > 1, d.items())))\n",
    "math.ceil(1.1)\n",
    "5 / 3\n",
    "a = []\n",
    "a.extend([])\n",
    "a.extend([])\n",
    "a.extend([1])\n",
    "a.extend([])\n",
    "a"
   ]
  },
  {
   "cell_type": "code",
   "execution_count": null,
   "metadata": {
    "collapsed": false
   },
   "outputs": [
    {
     "name": "stdout",
     "output_type": "stream",
     "text": [
      "*** Searching for unique sequences ***\n",
      "Fastq records:\t5977\n",
      "Classes:\n",
      "\t0 seq:\t959(0.1607)\n",
      "\t0 rds:\t959(0.1604)\n",
      "\t1 seq:\t3361(0.5634)\n",
      "\t1 rds:\t3361(0.5623)\n",
      "\t2 seq:\t1646(0.2759)\n",
      "\t2 rds:\t1657(0.2754)\n",
      "\n",
      "*** N-clusterisation ***\n",
      "Computing distances..."
     ]
    }
   ],
   "source": [
    "import clusterisation\n",
    "imp.reload(clusterisation)\n",
    "\n",
    "F1 = \"data/uv.__class1_amp1__.R1.fastq\"\n",
    "#F1 = \"data/uv.__class1_amp1__.R2.fastq\"\n",
    "#F1 = \"data/ash110.__class1_amp1__.R1.fastq\"\n",
    "#F1 = \"data/70.__class2_amp2__.R1.fastq\"\n",
    "\n",
    "seq = clusterisation.clusterise_sequences(F1, \n",
    "                                          replace_threshold = 14, \n",
    "                                          low_threshold = 30, \n",
    "                                          high_threshold = 38, \n",
    "                                          n_clust_hamm = 20, \n",
    "                                          h_clust_hamm = 20, \n",
    "                                          max_sequences = 200)"
   ]
  },
  {
   "cell_type": "code",
   "execution_count": null,
   "metadata": {
    "collapsed": false
   },
   "outputs": [],
   "source": [
    "def get_sequences(filepath):\n",
    "    sequences = []\n",
    "    with open(filepath) as file:\n",
    "        sequences = [(x.split()[1], float(x.split()[0])) for x in file]\n",
    "    print([x[1] for x in sequences][:20])\n",
    "    return sequences\n",
    "\n",
    "filename = \"tmp.topseq1\"\n",
    "\n",
    "minor_f = filename + \".minor.txt\"\n",
    "major_f = filename + \".major.txt\"\n",
    "\n",
    "minors = get_sequences(minor_f)\n",
    "majors = get_sequences(major_f)\n",
    "# print(majors)\n",
    "# print(len(sequences))\n",
    "# print([x[1] for x in sequences])\n",
    "# print([x[0].count('N') for x in sequences])"
   ]
  },
  {
   "cell_type": "code",
   "execution_count": null,
   "metadata": {
    "collapsed": false
   },
   "outputs": [],
   "source": [
    "MAX_ERR = 10\n",
    "\n",
    "def hamming_check(alpha, beta, max_err):\n",
    "\tif len(alpha) != len(beta): \n",
    "\t\tprint(\"!!!!\")\n",
    "\terr = 0\n",
    "\tfor a, b in zip(alpha, beta):\n",
    "\t\terr += (a != b) and (a != 'N') and (b != 'N')\n",
    "\t\tif err > max_err:\n",
    "\t\t\treturn False\n",
    "\treturn True\n",
    "\n",
    "\n",
    "def make_graph_old(sequences, max_err):\n",
    "    G=nx.Graph()\n",
    "    for i in range(len(sequences)):\n",
    "        G.add_node(i)\n",
    "    for i in range(len(sequences) - 1):\n",
    "        for j in range(i, len(sequences)):\n",
    "            if hamming_check(sequences[i][0], sequences[j][0], max_err):\n",
    "                G.add_edge(i, j)\n",
    "    return G\n",
    "\n",
    "\n",
    "def single_graph(sequences, max_err):\n",
    "    node_sizes = [math.log2(x[1]) for x in sequences]\n",
    "    node_sizes_min = min(node_sizes)\n",
    "    node_sizes_max = max(node_sizes)\n",
    "    for i in range(len(node_sizes)):\n",
    "        node_sizes[i] = 20 + 600 * (node_sizes[i] - node_sizes_min) / (node_sizes_max - node_sizes_min)\n",
    "\n",
    "    G = make_graph_old(sequences, max_err)\n",
    "    print(G.number_of_nodes())\n",
    "    print(G.number_of_edges())\n",
    "    pos = nx.spring_layout(G, k = .25)\n",
    "    nx.draw(G, pos, node_size = node_sizes)\n",
    "    nx.draw_networkx_labels(G, pos)\n",
    "    plt.show()\n",
    "\n",
    "\n",
    "def make_graph(minors, majors, max_err):\n",
    "    neis = {x: [] for x in map(lambda x: x[0], majors)}\n",
    "    \n",
    "    G=nx.Graph()\n",
    "    for i in range(len(minors) + len(majors)):\n",
    "        G.add_node(i)\n",
    "    for i in range(len(minors)):\n",
    "        for j in range(len(majors)):\n",
    "            if hamming_check(minors[i][0], majors[j][0], max_err):\n",
    "                G.add_edge(i, len(minors) + j)\n",
    "                neis[majors[j][0]].append(i)\n",
    "    return G, neis\n",
    "\n",
    "\n",
    "def bigraph(minors, majors, max_err):\n",
    "    node_sizes = [math.log2(x[1]) for x in minors + majors]\n",
    "    node_sizes_min = min(node_sizes)\n",
    "    node_sizes_max = max(node_sizes)\n",
    "    for i in range(len(node_sizes)):\n",
    "        node_sizes[i] = 20 + 600 * (node_sizes[i] - node_sizes_min) / (node_sizes_max - node_sizes_min)\n",
    "\n",
    "    G, neis = make_graph(minors, majors, max_err)\n",
    "    print(G.number_of_nodes())\n",
    "    print(G.number_of_edges())\n",
    "    pos = nx.spring_layout(G, k = .25)\n",
    "    # nx.draw(G, pos, node_size = node_sizes)\n",
    "    nx.draw_networkx_nodes(G, \n",
    "                           pos, \n",
    "                           nodelist=range(len(minors)), \n",
    "                           node_color=\"r\", \n",
    "                           node_size=node_sizes[:len(minors)])\n",
    "    nx.draw_networkx_nodes(G, \n",
    "                           pos, \n",
    "                           nodelist=range(len(minors), len(majors) + len(minors)), \n",
    "                           node_color=\"b\", \n",
    "                           node_size = node_sizes[len(minors) : len(majors) + len(minors)])\n",
    "    nx.draw_networkx_edges(G, pos)\n",
    "    nx.draw_networkx_labels(G, pos)\n",
    "    plt.show()\n",
    "\n",
    "\n",
    "bigraph(minors, majors, 10)\n",
    "single_graph(minors, 3)\n",
    "single_graph(majors, 1)"
   ]
  },
  {
   "cell_type": "code",
   "execution_count": null,
   "metadata": {
    "collapsed": false
   },
   "outputs": [],
   "source": [
    "pr = nx.pagerank_numpy(G, alpha = .05, personalization = {i: sequences[i][1] for i in range(len(sequences))})\n",
    "for i, x in enumerate(nx.connected_components(G)):\n",
    "    print(i+1, \": \", sorted(list(zip(x, [round(pr[y], 4) for y in x], [sequences[y][1] for y in x])), key = lambda x: x[1], reverse = True), sep = '')\n",
    "pos = nx.spring_layout(G, k = .2)\n",
    "# nx.draw(G, pos, node_size = [2000 * x[1] for x in pr.items()])\n",
    "# nx.draw_networkx_labels(G, pos)\n",
    "# plt.show()"
   ]
  },
  {
   "cell_type": "code",
   "execution_count": null,
   "metadata": {
    "collapsed": true
   },
   "outputs": [],
   "source": []
  }
 ],
 "metadata": {
  "kernelspec": {
   "display_name": "Python 3",
   "language": "python",
   "name": "python3"
  },
  "language_info": {
   "codemirror_mode": {
    "name": "ipython",
    "version": 3
   },
   "file_extension": ".py",
   "mimetype": "text/x-python",
   "name": "python",
   "nbconvert_exporter": "python",
   "pygments_lexer": "ipython3",
   "version": "3.5.1"
  }
 },
 "nbformat": 4,
 "nbformat_minor": 0
}
